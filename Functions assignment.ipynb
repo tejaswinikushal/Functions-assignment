{
 "cells": [
  {
   "cell_type": "markdown",
   "id": "88854981",
   "metadata": {},
   "source": [
    "#### Q1. Which keyword is used to create a function? Create a function to return a list of odd numbers in the range of 1 to 25."
   ]
  },
  {
   "cell_type": "markdown",
   "id": "b3d0adbf",
   "metadata": {},
   "source": [
    "The keyword def is used to create a function."
   ]
  },
  {
   "cell_type": "code",
   "execution_count": 1,
   "id": "6691b912",
   "metadata": {},
   "outputs": [
    {
     "name": "stdout",
     "output_type": "stream",
     "text": [
      "[1, 3, 5, 7, 9, 11, 13, 15, 17, 19, 21, 23, 25]\n"
     ]
    }
   ],
   "source": [
    "def odd():\n",
    "    odd_list=[]\n",
    "    for i in range(1,26):\n",
    "        if(i%2!=0):\n",
    "            odd_list.append(i)\n",
    "        else:\n",
    "            pass\n",
    "    return odd_list\n",
    "print(odd())"
   ]
  },
  {
   "cell_type": "markdown",
   "id": "bea2d0d5",
   "metadata": {},
   "source": [
    "#### Q2. Why *args and **kwargs is used in some functions? Create a function each for *args and **kwargs to demonstrate their use."
   ]
  },
  {
   "cell_type": "markdown",
   "id": "83699ae9",
   "metadata": {},
   "source": [
    "In Python,*args and **kwargs are special syntaxes used in function definitions to allow a variable number of arguments to be passed to a function. They provide flexibility when you're uncertain about the number of arguments that will be passed to a function.\n",
    "\n",
    "1.*args is used to pass a variable number of non-keyworded arguments to a function. It allows you to pass any number of arguments to a function as a tuple. The name args is arbitrary and can be replaced with any other valid variable name, but the asterisk (*) before it is essential to indicate that it should collect multiple arguments into a tuple.\n",
    "\n",
    "Example function that uses *args to calculate the sum of multiple numbers:"
   ]
  },
  {
   "cell_type": "code",
   "execution_count": 2,
   "id": "c2ec82a9",
   "metadata": {},
   "outputs": [
    {
     "name": "stdout",
     "output_type": "stream",
     "text": [
      "15\n"
     ]
    }
   ],
   "source": [
    "def calculate_sum(*args):\n",
    "    total = 0\n",
    "    for num in args:\n",
    "        total += num\n",
    "    return total\n",
    "result = calculate_sum(1,2,3,4,5)\n",
    "print(result)"
   ]
  },
  {
   "cell_type": "markdown",
   "id": "883d5506",
   "metadata": {},
   "source": [
    "**kwargs allows you to pass a variable number of keyword arguments to a function. It collects the keyword arguments as a dictionary, where the keys are the argument names and the values are the corresponding values passed to the function. Similarly to *args, the name kwargs is arbitrary, but the double asterisks (**) are necessary to indicate that it should collect keyword arguments.\n",
    "Example:"
   ]
  },
  {
   "cell_type": "code",
   "execution_count": 4,
   "id": "c72670f0",
   "metadata": {},
   "outputs": [
    {
     "name": "stdout",
     "output_type": "stream",
     "text": [
      "Hello, World, !\n"
     ]
    }
   ],
   "source": [
    "def concatenate_strings(separator, **kwargs):\n",
    "    result = separator.join(kwargs.values())\n",
    "    return result\n",
    "\n",
    "output = concatenate_strings(\", \", string1=\"Hello\", string2=\"World\", string3=\"!\")\n",
    "print(output)"
   ]
  },
  {
   "cell_type": "markdown",
   "id": "557e6d4a",
   "metadata": {},
   "source": [
    "In this example, the concatenate_strings function takes a separator as the first argument and any number of keyword arguments. It joins the values of the keyword arguments with the separator and returns the concatenated string."
   ]
  },
  {
   "cell_type": "markdown",
   "id": "f802454c",
   "metadata": {},
   "source": [
    "#### Q3. What is an iterator in python? Name the method used to initialise the iterator object and the method\n",
    "#### used for iteration. Use these methods to print the first five elements of the given list [2, 4, 6, 8, 10, 12, 14, 16,18, 20]."
   ]
  },
  {
   "cell_type": "markdown",
   "id": "541589a0",
   "metadata": {},
   "source": [
    "In Python, an iterator is an object that represents a stream of data. It implements the iterator protocol, which requires the iterator object to have two methods: _iter() and __next_(). These methods enable the iteration over the elements of the iterator object.\n",
    "\n",
    "The _iter_() method is used to initialize the iterator object. It is called when the iterator is created or reset. It should return the iterator object itself.\n",
    "\n",
    "The _next_() method is used to retrieve the next element from the iterator. It is called each time you want to fetch the next item. It should return the next item in the iterator and raise a StopIteration exception when there are no more items to iterate over."
   ]
  },
  {
   "cell_type": "code",
   "execution_count": 5,
   "id": "7703ce1a",
   "metadata": {},
   "outputs": [
    {
     "name": "stdout",
     "output_type": "stream",
     "text": [
      "2\n",
      "4\n",
      "6\n",
      "8\n",
      "10\n"
     ]
    }
   ],
   "source": [
    "my_list = [2, 4, 6, 8, 10, 12, 14, 16, 18, 20]\n",
    "class MyIterator:\n",
    "    def __init__(self, data):\n",
    "        self.data = data\n",
    "        self.index = 0\n",
    "    \n",
    "    def __iter__(self):\n",
    "        return self\n",
    "    \n",
    "    def __next__(self):\n",
    "        if self.index >= len(self.data):\n",
    "            raise StopIteration\n",
    "        value = self.data[self.index]\n",
    "        self.index += 1\n",
    "        return value\n",
    "iterator = MyIterator(my_list)\n",
    "for _ in range(5):\n",
    "    print(next(iterator))"
   ]
  },
  {
   "cell_type": "markdown",
   "id": "2bd6f90f",
   "metadata": {},
   "source": [
    "#### Q4. What is a generator function in python? Why yield keyword is used? Give an example of a generator function."
   ]
  },
  {
   "cell_type": "markdown",
   "id": "0811e0f0",
   "metadata": {},
   "source": [
    "In Python, a generator function is a special type of function that generates a sequence of values using the yield keyword. Unlike regular functions that return a value and then terminate, generator functions can yield multiple values during their execution and then resume from where they left off.\n",
    "\n",
    "The yield keyword is used in a generator function to specify a value to be yielded. When a generator function is called, it returns a generator object, which can be iterated over to retrieve the yielded values one by one. Each time the yield statement is encountered, the function's state is frozen, and the yielded value is returned. The next time the generator's _next_() method is called, the function resumes execution from where it left off until the next yield statement or until the function completes.\n",
    "\n",
    "The use of generator functions and the yield keyword offers several benefits, including improved memory efficiency and the ability to work with potentially infinite sequences.\n",
    "\n",
    "EX:"
   ]
  },
  {
   "cell_type": "code",
   "execution_count": 6,
   "id": "d7b3e46d",
   "metadata": {},
   "outputs": [
    {
     "name": "stdout",
     "output_type": "stream",
     "text": [
      "0\n",
      "1\n",
      "4\n",
      "9\n",
      "16\n"
     ]
    }
   ],
   "source": [
    "def square_generator(n):\n",
    "    for i in range(n):\n",
    "        yield i ** 2\n",
    "generator = square_generator(5)\n",
    "for square in generator:\n",
    "    print(square)\n"
   ]
  },
  {
   "cell_type": "markdown",
   "id": "9a2fc0b2",
   "metadata": {},
   "source": [
    "#### Q5. Create a generator function for prime numbers less than 1000. Use the next() method to print the first 20 prime numbers."
   ]
  },
  {
   "cell_type": "code",
   "execution_count": 7,
   "id": "7481fbf0",
   "metadata": {},
   "outputs": [
    {
     "name": "stdout",
     "output_type": "stream",
     "text": [
      "2\n",
      "3\n",
      "5\n",
      "7\n",
      "11\n",
      "13\n",
      "17\n",
      "19\n",
      "23\n",
      "29\n",
      "31\n",
      "37\n",
      "41\n",
      "43\n",
      "47\n",
      "53\n",
      "59\n",
      "61\n",
      "67\n",
      "71\n"
     ]
    }
   ],
   "source": [
    "def prime_generator():\n",
    "    primes = []\n",
    "    num = 2\n",
    "    while True:\n",
    "        if all(num % prime != 0 for prime in primes):\n",
    "            primes.append(num)\n",
    "            yield num\n",
    "        num += 1\n",
    "generator = prime_generator()\n",
    "for _ in range(20):\n",
    "    print(next(generator))"
   ]
  },
  {
   "cell_type": "code",
   "execution_count": null,
   "id": "4ee7608c",
   "metadata": {},
   "outputs": [],
   "source": []
  }
 ],
 "metadata": {
  "kernelspec": {
   "display_name": "Python 3 (ipykernel)",
   "language": "python",
   "name": "python3"
  },
  "language_info": {
   "codemirror_mode": {
    "name": "ipython",
    "version": 3
   },
   "file_extension": ".py",
   "mimetype": "text/x-python",
   "name": "python",
   "nbconvert_exporter": "python",
   "pygments_lexer": "ipython3",
   "version": "3.11.2"
  }
 },
 "nbformat": 4,
 "nbformat_minor": 5
}
